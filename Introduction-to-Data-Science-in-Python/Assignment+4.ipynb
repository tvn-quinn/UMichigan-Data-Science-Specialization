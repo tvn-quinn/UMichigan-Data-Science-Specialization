{
 "cells": [
  {
   "cell_type": "markdown",
   "metadata": {},
   "source": [
    "---\n",
    "\n",
    "_You are currently looking at **version 1.1** of this notebook. To download notebooks and datafiles, as well as get help on Jupyter notebooks in the Coursera platform, visit the [Jupyter Notebook FAQ](https://www.coursera.org/learn/python-data-analysis/resources/0dhYG) course resource._\n",
    "\n",
    "---"
   ]
  },
  {
   "cell_type": "code",
   "execution_count": 1,
   "metadata": {
    "collapsed": true
   },
   "outputs": [],
   "source": [
    "import pandas as pd\n",
    "import numpy as np\n",
    "from scipy.stats import ttest_ind"
   ]
  },
  {
   "cell_type": "markdown",
   "metadata": {},
   "source": [
    "# Assignment 4 - Hypothesis Testing\n",
    "This assignment requires more individual learning than previous assignments - you are encouraged to check out the [pandas documentation](http://pandas.pydata.org/pandas-docs/stable/) to find functions or methods you might not have used yet, or ask questions on [Stack Overflow](http://stackoverflow.com/) and tag them as pandas and python related. And of course, the discussion forums are open for interaction with your peers and the course staff.\n",
    "\n",
    "Definitions:\n",
    "* A _quarter_ is a specific three month period, Q1 is January through March, Q2 is April through June, Q3 is July through September, Q4 is October through December.\n",
    "* A _recession_ is defined as starting with two consecutive quarters of GDP decline, and ending with two consecutive quarters of GDP growth.\n",
    "* A _recession bottom_ is the quarter within a recession which had the lowest GDP.\n",
    "* A _university town_ is a city which has a high percentage of university students compared to the total population of the city.\n",
    "\n",
    "**Hypothesis**: University towns have their mean housing prices less effected by recessions. Run a t-test to compare the ratio of the mean price of houses in university towns the quarter before the recession starts compared to the recession bottom. (`price_ratio=quarter_before_recession/recession_bottom`)\n",
    "\n",
    "The following data files are available for this assignment:\n",
    "* From the [Zillow research data site](http://www.zillow.com/research/data/) there is housing data for the United States. In particular the datafile for [all homes at a city level](http://files.zillowstatic.com/research/public/City/City_Zhvi_AllHomes.csv), ```City_Zhvi_AllHomes.csv```, has median home sale prices at a fine grained level.\n",
    "* From the Wikipedia page on college towns is a list of [university towns in the United States](https://en.wikipedia.org/wiki/List_of_college_towns#College_towns_in_the_United_States) which has been copy and pasted into the file ```university_towns.txt```.\n",
    "* From Bureau of Economic Analysis, US Department of Commerce, the [GDP over time](http://www.bea.gov/national/index.htm#gdp) of the United States in current dollars (use the chained value in 2009 dollars), in quarterly intervals, in the file ```gdplev.xls```. For this assignment, only look at GDP data from the first quarter of 2000 onward.\n",
    "\n",
    "Each function in this assignment below is worth 10%, with the exception of ```run_ttest()```, which is worth 50%."
   ]
  },
  {
   "cell_type": "code",
   "execution_count": 2,
   "metadata": {
    "collapsed": false
   },
   "outputs": [],
   "source": [
    "# Use this dictionary to map state names to two letter acronyms\n",
    "states = {'OH': 'Ohio', 'KY': 'Kentucky', 'AS': 'American Samoa', 'NV': 'Nevada', 'WY': 'Wyoming', 'NA': 'National', 'AL': 'Alabama', 'MD': 'Maryland', 'AK': 'Alaska', 'UT': 'Utah', 'OR': 'Oregon', 'MT': 'Montana', 'IL': 'Illinois', 'TN': 'Tennessee', 'DC': 'District of Columbia', 'VT': 'Vermont', 'ID': 'Idaho', 'AR': 'Arkansas', 'ME': 'Maine', 'WA': 'Washington', 'HI': 'Hawaii', 'WI': 'Wisconsin', 'MI': 'Michigan', 'IN': 'Indiana', 'NJ': 'New Jersey', 'AZ': 'Arizona', 'GU': 'Guam', 'MS': 'Mississippi', 'PR': 'Puerto Rico', 'NC': 'North Carolina', 'TX': 'Texas', 'SD': 'South Dakota', 'MP': 'Northern Mariana Islands', 'IA': 'Iowa', 'MO': 'Missouri', 'CT': 'Connecticut', 'WV': 'West Virginia', 'SC': 'South Carolina', 'LA': 'Louisiana', 'KS': 'Kansas', 'NY': 'New York', 'NE': 'Nebraska', 'OK': 'Oklahoma', 'FL': 'Florida', 'CA': 'California', 'CO': 'Colorado', 'PA': 'Pennsylvania', 'DE': 'Delaware', 'NM': 'New Mexico', 'RI': 'Rhode Island', 'MN': 'Minnesota', 'VI': 'Virgin Islands', 'NH': 'New Hampshire', 'MA': 'Massachusetts', 'GA': 'Georgia', 'ND': 'North Dakota', 'VA': 'Virginia'}"
   ]
  },
  {
   "cell_type": "code",
   "execution_count": 3,
   "metadata": {
    "collapsed": false
   },
   "outputs": [],
   "source": [
    "\n",
    "def get_list_of_university_towns():\n",
    "    '''Returns a DataFrame of towns and the states they are in from the \n",
    "    university_towns.txt list. The format of the DataFrame should be:\n",
    "    DataFrame( [ [\"Michigan\", \"Ann Arbor\"], [\"Michigan\", \"Yipsilanti\"] ], \n",
    "    columns=[\"State\", \"RegionName\"]  )\n",
    "    \n",
    "    The following cleaning needs to be done:\n",
    "\n",
    "    1. For \"State\", removing characters from \"[\" to the end.\n",
    "    2. For \"RegionName\", when applicable, removing every character from \" (\" to the end.\n",
    "    3. Depending on how you read the data, you may need to remove newline character '\\n'. '''\n",
    "    \n",
    "    result = [] \n",
    "    state = None\n",
    "    with open('university_towns.txt') as file:\n",
    "        for line in file: \n",
    "            line = line[:-1]\n",
    "            if '[edit]' in line: \n",
    "                state = line.split('[')[0]\n",
    "                continue\n",
    "            if '(' in line:\n",
    "                region = line.split(' (')[0]\n",
    "                result.append([state, region])\n",
    "            else: \n",
    "                region = line\n",
    "                result.append([state, region])\n",
    "\n",
    "    df = pd.DataFrame(result, columns = [\"State\", \"RegionName\"])\n",
    "\n",
    "    return df\n"
   ]
  },
  {
   "cell_type": "code",
   "execution_count": 4,
   "metadata": {
    "collapsed": false
   },
   "outputs": [],
   "source": [
    "def get_gdp_df():\n",
    "    '''\n",
    "    Create a pandas dataframe containing the Quarter and GDP columns \n",
    "    for the years 2000 or later. \n",
    "    '''\n",
    "\n",
    "    gdp = pd.ExcelFile(\"gdplev.xls\")\n",
    "    gdp = gdp.parse(\"Sheet1\", skiprows=219)\n",
    "    gdp = gdp[[\"1999q4\", 9926.1]]\n",
    "    gdp.columns = [\"Quarter\", \"GDP\"]\n",
    "\n",
    "    return gdp\n",
    "\n",
    "\n",
    "def get_recession_indices():\n",
    "    '''\n",
    "    With the GDP dataframe, get a list of the indices of the DataFrame\n",
    "    where there is recession \n",
    "    '''\n",
    "\n",
    "    gdp = get_gdp_df()\n",
    "    index_list = [] \n",
    "    for i in range(len(gdp)-2):\n",
    "        if (gdp.iloc[i][1] > gdp.iloc[i+1][1]) and (gdp.iloc[i+1][1] > gdp.iloc[i+2][1]):\n",
    "            if (i+2) not in index_list:\n",
    "                index_list.append(i)\n",
    "                index_list.append(i+1)\n",
    "                index_list.append(i+2)\n",
    "                \n",
    "    return index_list\n",
    "\n",
    "\n",
    "def get_recession_start():\n",
    "    '''Returns the year and quarter of the recession start time as a \n",
    "    string value in a format such as 2005q3'''\n",
    "\n",
    "    indices = get_recession_indices()\n",
    "    gdp = get_gdp_df()\n",
    "    start_index = indices[0]\n",
    "    result = gdp.iloc[start_index][0]\n",
    "    \n",
    "    return result\n",
    "\n"
   ]
  },
  {
   "cell_type": "code",
   "execution_count": 5,
   "metadata": {
    "collapsed": false
   },
   "outputs": [],
   "source": [
    "def get_recession_end():\n",
    "    '''Returns the year and quarter of the recession end time as a \n",
    "    string value in a format such as 2005q3'''\n",
    "    \n",
    "    indices = get_recession_indices()   \n",
    "    last = indices[-1]\n",
    "    result = gdp.iloc[last+1][0]\n",
    "\n",
    "    return result\n",
    "    \n"
   ]
  },
  {
   "cell_type": "code",
   "execution_count": 6,
   "metadata": {
    "collapsed": false
   },
   "outputs": [],
   "source": [
    "def get_recession_bottom():\n",
    "    '''Returns the year and quarter of the recession bottom time as a \n",
    "    string value in a format such as 2005q3'''\n",
    "    \n",
    "    indices = get_recession_indices()\n",
    "    gdp = get_gdp_df()\n",
    "    end = indices[-1]\n",
    "    result = gdp.iloc[end][0]\n",
    "\n",
    "    return result"
   ]
  },
  {
   "cell_type": "code",
   "execution_count": 7,
   "metadata": {
    "collapsed": false
   },
   "outputs": [],
   "source": [
    "def year_qtr_columns():\n",
    "    \n",
    "    years = list(range(2000,2017))\n",
    "    quarters = [\"q\" + str(num) for num in list(range(1,5))]\n",
    "    cols = []\n",
    "\n",
    "    for year in years: \n",
    "        for q in quarters: \n",
    "            cols.append(str(year)+q)\n",
    "    del cols[-1]\n",
    "\n",
    "    return cols \n",
    "\n",
    "\n",
    "def convert_housing_data_to_quarters():\n",
    "    '''Converts the housing data to quarters and returns it as mean \n",
    "    values in a dataframe. This dataframe should be a dataframe with\n",
    "    columns for 2000q1 through 2016q3, and should have a multi-index\n",
    "    in the shape of [\"State\",\"RegionName\"].\n",
    "    \n",
    "    Note: Quarters are defined in the assignment description, they are\n",
    "    not arbitrary three month periods.\n",
    "    \n",
    "    The resulting dataframe should have 67 columns, and 10,730 rows.\n",
    "    '''\n",
    "    \n",
    "    df = pd.read_csv('City_Zhvi_AllHomes.csv')\n",
    "    df.drop(['Metro','CountyName','RegionID','SizeRank'],axis=1,inplace=1)\n",
    "    df['State'] = df['State'].map(states)\n",
    "    df.set_index([\"State\", \"RegionName\"], inplace=True)\n",
    "    drop_cols = [c for c in df.columns if c.lower()[:3] == '199']\n",
    "    df.drop(drop_cols, axis=1, inplace=1) \n",
    "    qtrs = [list(df.columns)[x:x+3] for x in range(0, len(list(df.columns)), 3)]\n",
    "    cols = year_qtr_columns()\n",
    "\n",
    "    # getting the mean of the months to get quarterly instead of monthly data\n",
    "    for col, q in zip(cols, qtrs):\n",
    "        df[col] = df[q].mean(axis=1)\n",
    "        \n",
    "    df = df[cols]\n",
    "\n",
    "    return df"
   ]
  },
  {
   "cell_type": "code",
   "execution_count": null,
   "metadata": {
    "collapsed": false
   },
   "outputs": [],
   "source": [
    "def run_ttest():\n",
    "    '''First creates new data showing the decline or growth of housing prices\n",
    "    between the recession start and the recession bottom. Then runs a ttest\n",
    "    comparing the university town values to the non-university towns values, \n",
    "    return whether the alternative hypothesis (that the two groups are the same)\n",
    "    is true or not as well as the p-value of the confidence.     \n",
    "\n",
    "    Return the tuple (different, p, better) where different=True if the t-test is\n",
    "    True at a p<0.01 (we reject the null hypothesis), or different=False if \n",
    "    otherwise (we cannot reject the null hypothesis). The variable p should\n",
    "    be equal to the exact p value returned from scipy.stats.ttest_ind(). The\n",
    "    value for better should be either \"university town\" or \"non-university town\"\n",
    "    depending on which has a lower mean price ratio (which is equivilent to a\n",
    "    reduced market loss).'''\n",
    "\n",
    "    \n",
    "    start = get_recession_start()\n",
    "    bottom = get_recession_bottom()\n",
    "\n",
    "    df = convert_housing_data_to_quarters().reset_index()\n",
    "    df = df[[\"RegionName\", start, bottom]]\n",
    "    \n",
    "    # This is the correct formula for price ratio, not the one listed\n",
    "    # at the top of the assignment. \n",
    "    \n",
    "    df[\"PriceRatio\"] = (df[start] - df[bottom])/df[start]\n",
    "\n",
    "    uni_towns = get_list_of_university_towns()[\"RegionName\"]    \n",
    "\n",
    "    uni = df.loc[df[\"RegionName\"].isin(uni_towns)]\n",
    "    uni = uni.set_index(\"RegionName\")\n",
    "    uni = uni[\"PriceRatio\"].dropna()\n",
    "    \n",
    "    not_uni = df.loc[~df[\"RegionName\"].isin(uni_towns)]\n",
    "    not_uni = not_uni.set_index(\"RegionName\")\n",
    "    not_uni = not_uni[\"PriceRatio\"].dropna()\n",
    "\n",
    "    p = ttest_ind(uni, not_uni)[1]\n",
    "\n",
    "    if p<0.01:\n",
    "        diff = True\n",
    "    else: \n",
    "        diff = False\n",
    "\n",
    "    better = \"university town\"\n",
    "    if uni.mean() > not_uni.mean():\n",
    "        better = \"non-university town\"\n",
    "\n",
    "    return (diff,p, better)\n",
    "\n",
    "run_ttest()"
   ]
  }
 ],
 "metadata": {
  "coursera": {
   "course_slug": "python-data-analysis",
   "graded_item_id": "Il9Fx",
   "launcher_item_id": "TeDW0",
   "part_id": "WGlun"
  },
  "kernelspec": {
   "display_name": "Python 3",
   "language": "python",
   "name": "python3"
  },
  "language_info": {
   "codemirror_mode": {
    "name": "ipython",
    "version": 3
   },
   "file_extension": ".py",
   "mimetype": "text/x-python",
   "name": "python",
   "nbconvert_exporter": "python",
   "pygments_lexer": "ipython3",
   "version": "3.5.2"
  }
 },
 "nbformat": 4,
 "nbformat_minor": 0
}
