{
 "cells": [
  {
   "cell_type": "raw",
   "metadata": {},
   "source": []
  },
  {
   "cell_type": "markdown",
   "metadata": {},
   "source": [
    "# Assignment 2\n",
    "\n",
    "Before working on this assignment please read these instructions fully. In the submission area, you will notice that you can click the link to **Preview the Grading** for each step of the assignment. This is the criteria that will be used for peer grading. Please familiarize yourself with the criteria before beginning the assignment.\n",
    "\n",
    "An NOAA dataset has been stored in the file `data/C2A2_data/BinnedCsvs_d400/9ea1109f79cbb97b7c1ffa5279925674c0cd8f1f85ccfdd1cd56b5cf.csv`. The data for this assignment comes from a subset of The National Centers for Environmental Information (NCEI) [Daily Global Historical Climatology Network](https://www1.ncdc.noaa.gov/pub/data/ghcn/daily/readme.txt) (GHCN-Daily). The GHCN-Daily is comprised of daily climate records from thousands of land surface stations across the globe.\n",
    "\n",
    "Each row in the assignment datafile corresponds to a single observation.\n",
    "\n",
    "The following variables are provided to you:\n",
    "\n",
    "* **id** : station identification code\n",
    "* **date** : date in YYYY-MM-DD format (e.g. 2012-01-24 = January 24, 2012)\n",
    "* **element** : indicator of element type\n",
    "    * TMAX : Maximum temperature (tenths of degrees C)\n",
    "    * TMIN : Minimum temperature (tenths of degrees C)\n",
    "* **value** : data value for element (tenths of degrees C)\n",
    "\n",
    "For this assignment, you must:\n",
    "\n",
    "1. Read the documentation and familiarize yourself with the dataset, then write some python code which returns a line graph of the record high and record low temperatures by day of the year over the period 2005-2014. The area between the record high and record low temperatures for each day should be shaded.\n",
    "2. Overlay a scatter of the 2015 data for any points (highs and lows) for which the ten year record (2005-2014) record high or record low was broken in 2015.\n",
    "3. Watch out for leap days (i.e. February 29th), it is reasonable to remove these points from the dataset for the purpose of this visualization.\n",
    "4. Make the visual nice! Leverage principles from the first module in this course when developing your solution. Consider issues such as legends, labels, and chart junk.\n",
    "\n",
    "The data you have been given is near **Chicago, Illinois, United States**, and the stations the data comes from are shown on the map below."
   ]
  },
  {
   "cell_type": "code",
   "execution_count": 50,
   "metadata": {
    "collapsed": false
   },
   "outputs": [],
   "source": [
    "import matplotlib.pyplot as plt\n",
    "import mplleaflet\n",
    "import pandas as pd\n",
    "import pylab\n",
    "\n",
    "import datetime\n",
    "import numpy as np\n",
    "\n",
    "def leaflet_plot_stations(binsize, hashid):\n",
    "\n",
    "    df = pd.read_csv('data/C2A2_data/BinSize_d{}.csv'.format(binsize))\n",
    "\n",
    "    station_locations_by_hash = df[df['hash'] == hashid]\n",
    "\n",
    "    lons = station_locations_by_hash['LONGITUDE'].tolist()\n",
    "    lats = station_locations_by_hash['LATITUDE'].tolist()\n",
    "\n",
    "    plt.figure(figsize=(8,8))\n",
    "\n",
    "    plt.scatter(lons, lats, c='r', alpha=0.7, s=200)\n",
    "\n",
    "    return mplleaflet.display()\n",
    "\n",
    "# leaflet_plot_stations(400,'9ea1109f79cbb97b7c1ffa5279925674c0cd8f1f85ccfdd1cd56b5cf')"
   ]
  },
  {
   "cell_type": "code",
   "execution_count": 90,
   "metadata": {
    "collapsed": false
   },
   "outputs": [
    {
     "data": {
      "text/html": [
       "<div>\n",
       "<table border=\"1\" class=\"dataframe\">\n",
       "  <thead>\n",
       "    <tr style=\"text-align: right;\">\n",
       "      <th></th>\n",
       "      <th>ID</th>\n",
       "      <th>Date</th>\n",
       "      <th>Element</th>\n",
       "      <th>Data_Value</th>\n",
       "      <th>Day</th>\n",
       "    </tr>\n",
       "  </thead>\n",
       "  <tbody>\n",
       "    <tr>\n",
       "      <th>1</th>\n",
       "      <td>USC00115097</td>\n",
       "      <td>2011-07-01</td>\n",
       "      <td>TMIN</td>\n",
       "      <td>13.9</td>\n",
       "      <td>182</td>\n",
       "    </tr>\n",
       "    <tr>\n",
       "      <th>2</th>\n",
       "      <td>USC00110338</td>\n",
       "      <td>2005-11-19</td>\n",
       "      <td>TMAX</td>\n",
       "      <td>11.7</td>\n",
       "      <td>323</td>\n",
       "    </tr>\n",
       "    <tr>\n",
       "      <th>3</th>\n",
       "      <td>USC00110442</td>\n",
       "      <td>2013-11-21</td>\n",
       "      <td>TMIN</td>\n",
       "      <td>-1.1</td>\n",
       "      <td>325</td>\n",
       "    </tr>\n",
       "    <tr>\n",
       "      <th>4</th>\n",
       "      <td>USC00115326</td>\n",
       "      <td>2011-12-05</td>\n",
       "      <td>TMIN</td>\n",
       "      <td>0.0</td>\n",
       "      <td>339</td>\n",
       "    </tr>\n",
       "    <tr>\n",
       "      <th>5</th>\n",
       "      <td>USC00115326</td>\n",
       "      <td>2005-03-24</td>\n",
       "      <td>TMIN</td>\n",
       "      <td>-5.6</td>\n",
       "      <td>83</td>\n",
       "    </tr>\n",
       "  </tbody>\n",
       "</table>\n",
       "</div>"
      ],
      "text/plain": [
       "            ID        Date Element  Data_Value  Day\n",
       "1  USC00115097  2011-07-01    TMIN        13.9  182\n",
       "2  USC00110338  2005-11-19    TMAX        11.7  323\n",
       "3  USC00110442  2013-11-21    TMIN        -1.1  325\n",
       "4  USC00115326  2011-12-05    TMIN         0.0  339\n",
       "5  USC00115326  2005-03-24    TMIN        -5.6   83"
      ]
     },
     "execution_count": 90,
     "metadata": {},
     "output_type": "execute_result"
    }
   ],
   "source": [
    "# Obtain dataframe for years 2005-2014, and for 2015 separately\n",
    "def read_data():\n",
    "\n",
    "    df = pd.read_csv(\"data/C2A2_data/BinnedCsvs_d400/9ea1109f79cbb97b7c1ffa5279925674c0cd8f1f85ccfdd1cd56b5cf.csv\")\n",
    "    \n",
    "    # remove Feb 29\n",
    "    df = df[~df['Date'].str.contains(\"-02-29\")]\n",
    "    \n",
    "    # add a column for day of the year\n",
    "    df['Day'] = pd.DatetimeIndex(df['Date']).dayofyear\n",
    "      \n",
    "    # convert temperature to Celcius\n",
    "    df['Data_Value'] = df['Data_Value'].apply(lambda x: x/10)\n",
    "       \n",
    "    dfprev = df[(df['Date']>='2005-01-01') & (df['Date']<='2014-12-31')]\n",
    "    df15 = df[(df['Date']>='2015-01-01') & (df['Date']<='2015-12-31')]\n",
    "    \n",
    "    return dfprev, df15\n",
    "\n",
    "dfprev, df15 = read_data()\n",
    "dfprev.head()"
   ]
  },
  {
   "cell_type": "code",
   "execution_count": 52,
   "metadata": {
    "collapsed": false
   },
   "outputs": [
    {
     "data": {
      "text/plain": [
       "pandas.core.series.Series"
      ]
     },
     "execution_count": 52,
     "metadata": {},
     "output_type": "execute_result"
    }
   ],
   "source": [
    "def get_record_low(df):\n",
    "    '''Create a Series of record low temperatures by day of the year'''\n",
    "    \n",
    "    all_min_vals = df[df[\"Element\"] == \"TMIN\"]\n",
    "    min_val = all_min_vals.groupby('Day').min()\n",
    "    min_val = min_val[\"Data_Value\"]\n",
    "    # min_val = min_val.tolist()\n",
    "    \n",
    "    return min_val\n",
    "\n",
    "\n",
    "def get_record_high(df):\n",
    "    '''Create a Series of record high temperatures by day of the year'''\n",
    "    \n",
    "    all_max_vals = df[df[\"Element\"] == \"TMIN\"]\n",
    "    max_val = all_max_vals.groupby('Day').max()\n",
    "    max_val = max_val[\"Data_Value\"]\n",
    "    \n",
    "    \n",
    "    return max_val\n",
    "\n",
    "type(get_record_low(dfprev))"
   ]
  },
  {
   "cell_type": "code",
   "execution_count": 80,
   "metadata": {
    "collapsed": false
   },
   "outputs": [],
   "source": [
    "def get_plot_data():   \n",
    "    dfprev, df15 = read_data()\n",
    "    min_prev = get_record_low(dfprev).rename(\"min_prev\")\n",
    "    max_prev = get_record_high(dfprev).rename(\"max_prev\")\n",
    "\n",
    "    min_15 = get_record_low(df15).rename(\"min_15\")\n",
    "    max_15 = get_record_high(df15).rename(\"max_15\")\n",
    "\n",
    "    Temp = pd.concat([min_prev, min_15, max_prev, max_15],axis=1)\n",
    "\n",
    "    # get indices where 2015 broke the all time low/high records\n",
    "    broken_min = np.where(Temp[\"min_15\"] < Temp[\"min_prev\"], Temp[\"min_15\"], np.nan)\n",
    "    broken_max = np.where(Temp[\"max_15\"] > Temp[\"max_prev\"], Temp[\"max_15\"], np.nan)\n",
    "    \n",
    "    return None\n"
   ]
  },
  {
   "cell_type": "code",
   "execution_count": 100,
   "metadata": {
    "collapsed": false
   },
   "outputs": [],
   "source": [
    "def plot_chart():\n",
    "    \n",
    "    get_plot_data()\n",
    "    \n",
    "    plt.figure()\n",
    "    plt.title(\"Record Temperatures in Chicago (2005-2015)\")\n",
    "    plt.xlabel(\"Month\")\n",
    "    plt.ylabel(\"Temperature (°C)\")\n",
    "    \n",
    "    ticks = [i*30.4+15 for i in range(12)] # just to start ticks in the middle of the month\n",
    "    labels = ['Jan', 'Feb', 'Mar', 'Apr', 'May', 'Jun', 'Jul', 'Aug', 'Sep', 'Oct','Nov','Dec']\n",
    "    plt.xticks( ticks, labels)\n",
    "\n",
    "    lows = plt.plot(min_prev, 'deepskyblue', label='Record Low')\n",
    "    highs = plt.plot(max_prev, 'crimson', label='Record High')\n",
    "\n",
    "    broken_low = plt.scatter(Temp.index.values, broken_min, color='navy')\n",
    "    broken_high = plt.scatter(Temp.index.values, broken_max, color='orange')\n",
    "\n",
    "    plt.legend([broken_low, broken_high], ['2015 record low', '2015 record high'])\n",
    "    plt.fill_between(Temp.index.values, Temp[\"min_prev\"], Temp[\"max_prev\"], color='lightgrey')\n",
    "    \n",
    "    return None\n"
   ]
  },
  {
   "cell_type": "code",
   "execution_count": 105,
   "metadata": {
    "collapsed": false
   },
   "outputs": [
    {
     "data": {
      "text/plain": [
       "<matplotlib.figure.Figure at 0x7f36a73ba9e8>"
      ]
     },
     "metadata": {},
     "output_type": "display_data"
    },
    {
     "data": {
      "image/png": "[encoded data removed]",
      "text/plain": [
       "<matplotlib.figure.Figure at 0x7f36a73e3358>"
      ]
     },
     "metadata": {},
     "output_type": "display_data"
    }
   ],
   "source": [
    "plot_chart()\n",
    "pylab.show()\n"
   ]
  }
 ],
 "metadata": {
  "kernelspec": {
   "display_name": "Python 3",
   "language": "python",
   "name": "python3"
  },
  "language_info": {
   "codemirror_mode": {
    "name": "ipython",
    "version": 3
   },
   "file_extension": ".py",
   "mimetype": "text/x-python",
   "name": "python",
   "nbconvert_exporter": "python",
   "pygments_lexer": "ipython3",
   "version": "3.5.2"
  }
 },
 "nbformat": 4,
 "nbformat_minor": 1
}
